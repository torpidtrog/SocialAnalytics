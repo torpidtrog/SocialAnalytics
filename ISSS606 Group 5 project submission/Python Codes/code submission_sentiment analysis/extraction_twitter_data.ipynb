{
 "cells": [
  {
   "cell_type": "code",
   "execution_count": null,
   "id": "8ae0f6ca",
   "metadata": {},
   "outputs": [],
   "source": [
    "from twitter_config import *\n",
    "import tweepy as tw\n",
    "import datetime\n",
    "import pandas as pd\n",
    "from tqdm import tqdm, notebook"
   ]
  },
  {
   "cell_type": "markdown",
   "id": "beec1e5f",
   "metadata": {},
   "source": [
    "#### Setting up API "
   ]
  },
  {
   "cell_type": "code",
   "execution_count": null,
   "id": "5b4c6799",
   "metadata": {},
   "outputs": [],
   "source": [
    "auth= tw.OAuthHandler(consumer_key,consumer_secret)\n",
    "auth.set_access_token(access_token,access_token_secret)\n",
    "\n",
    "api = tw.API(auth, wait_on_rate_limit=True)"
   ]
  },
  {
   "cell_type": "code",
   "execution_count": null,
   "id": "4c8b281b",
   "metadata": {},
   "outputs": [],
   "source": [
    "today = datetime.date.today()\n",
    "yesterday= today - datetime.timedelta(days=1)\n",
    "start_date = '2021-01-21'\n",
    "today, yesterday"
   ]
  },
  {
   "cell_type": "code",
   "execution_count": null,
   "id": "108e0bbd",
   "metadata": {},
   "outputs": [],
   "source": [
    "# extracting only verified users to avoid bots and remove retweets which may inflate the sentiment due to retweets\n",
    "tweets_list = tw.Cursor(api.search_tweets, \n",
    "                        q=\"#nft -filter:retweets filter:verified since:\" + str(start_date)+ \" until:\" + str(today),\n",
    "                        tweet_mode='extended', \n",
    "                        lang='en').items()"
   ]
  },
  {
   "cell_type": "code",
   "execution_count": null,
   "id": "df66dc65",
   "metadata": {},
   "outputs": [],
   "source": [
    "tweets_copy = []\n",
    "for tweet in tqdm(tweets_list):\n",
    "     tweets_copy.append(tweet)"
   ]
  },
  {
   "cell_type": "code",
   "execution_count": null,
   "id": "6a30663f",
   "metadata": {},
   "outputs": [],
   "source": [
    "# Saving into dataframe\n",
    "tweets_df = pd.DataFrame()\n",
    "for tweet in tqdm(tweets_copy):\n",
    "    hashtags = []\n",
    "    try:\n",
    "        for hashtag in tweet.entities[\"hashtags\"]:\n",
    "            hashtags.append(hashtag[\"text\"])\n",
    "        text = api.get_status(id=tweet.id, tweet_mode='extended').full_text\n",
    "    except:\n",
    "        pass\n",
    "    tweets_df = tweets_df.append(pd.DataFrame({'user_name': tweet.user.name, \n",
    "                                               'user_location': tweet.user.location,\\\n",
    "                                               'user_description': tweet.user.description,\n",
    "                                               'user_created': tweet.user.created_at,\n",
    "                                               'user_followers': tweet.user.followers_count,\n",
    "                                               'user_friends': tweet.user.friends_count,\n",
    "                                               'user_favourites': tweet.user.favourites_count,\n",
    "                                               'user_verified': tweet.user.verified,\n",
    "                                               'date': tweet.created_at,\n",
    "                                               'text': text, \n",
    "                                               'hashtags': [hashtags if hashtags else None],\n",
    "                                               'source': tweet.source,\n",
    "                                               'is_retweet': tweet.retweeted}, index=[0]))"
   ]
  },
  {
   "cell_type": "code",
   "execution_count": null,
   "id": "caf35b6b",
   "metadata": {},
   "outputs": [],
   "source": [
    "tweets_df"
   ]
  },
  {
   "cell_type": "code",
   "execution_count": null,
   "id": "644c7fb1",
   "metadata": {},
   "outputs": [],
   "source": [
    "print('earliest datetime: ',min(tweets_df.date), '\\n', 'latest datetime: ', max(tweets_df.date))"
   ]
  },
  {
   "cell_type": "code",
   "execution_count": null,
   "id": "aff74654",
   "metadata": {},
   "outputs": [],
   "source": [
    "## initial save\n",
    "# tweets_df.to_csv(\"./dataset/nft_tweets_20220527.csv\", index=False)"
   ]
  },
  {
   "cell_type": "markdown",
   "id": "05bcd33b",
   "metadata": {},
   "source": [
    "Incremental load"
   ]
  },
  {
   "cell_type": "code",
   "execution_count": null,
   "id": "dd448599",
   "metadata": {
    "scrolled": true
   },
   "outputs": [],
   "source": [
    "tweets_old_df = pd.read_csv(\"./dataset/nft_tweets_20220527.csv\", parse_dates=['date'])\n",
    "print(f\"past tweets: {tweets_old_df.shape}\")\n",
    "print('earliest datetime: ',min(tweets_old_df.date), '\\n', 'latest datetime: ', max(tweets_old_df.date))"
   ]
  },
  {
   "cell_type": "code",
   "execution_count": null,
   "id": "b2e4ab46",
   "metadata": {},
   "outputs": [],
   "source": [
    "tweets_all_df = pd.concat([tweets_old_df, tweets_df], axis=0)\n",
    "print(f\"new tweets: {tweets_df.shape[0]} past tweets: {tweets_old_df.shape[0]} all tweets: {tweets_all_df.shape[0]}\")"
   ]
  },
  {
   "cell_type": "code",
   "execution_count": null,
   "id": "39051775",
   "metadata": {},
   "outputs": [],
   "source": [
    "# remove duplicates\n",
    "tweets_all_df.drop_duplicates(subset = [\"user_name\", \"date\", \"text\"], inplace=True)\n",
    "print(f\"all tweets: {tweets_all_df.shape}\")"
   ]
  },
  {
   "cell_type": "code",
   "execution_count": null,
   "id": "4e10cf85",
   "metadata": {},
   "outputs": [],
   "source": [
    "tweets_all_df.to_csv(\"./dataset/nft_tweets_20220527.csv\", index=False)"
   ]
  },
  {
   "cell_type": "code",
   "execution_count": null,
   "id": "d21d82bd",
   "metadata": {},
   "outputs": [],
   "source": [
    "tweets_all_df"
   ]
  },
  {
   "cell_type": "code",
   "execution_count": null,
   "id": "fb0c6c1c",
   "metadata": {},
   "outputs": [],
   "source": [
    "print('earliest datetime: ',min(tweets_all_df.date), '\\n', 'latest datetime: ', max(tweets_all_df.date))"
   ]
  },
  {
   "cell_type": "code",
   "execution_count": null,
   "id": "25310118",
   "metadata": {},
   "outputs": [],
   "source": []
  }
 ],
 "metadata": {
  "kernelspec": {
   "display_name": "Python 3",
   "language": "python",
   "name": "python3"
  },
  "language_info": {
   "codemirror_mode": {
    "name": "ipython",
    "version": 3
   },
   "file_extension": ".py",
   "mimetype": "text/x-python",
   "name": "python",
   "nbconvert_exporter": "python",
   "pygments_lexer": "ipython3",
   "version": "3.8.8"
  }
 },
 "nbformat": 4,
 "nbformat_minor": 5
}
